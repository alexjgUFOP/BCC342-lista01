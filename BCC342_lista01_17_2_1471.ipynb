{
  "nbformat": 4,
  "nbformat_minor": 0,
  "metadata": {
    "colab": {
      "name": "BCC342-lista01-17.2.1471.ipynb",
      "provenance": [],
      "collapsed_sections": [],
      "authorship_tag": "ABX9TyNR41w7aADjSSRXJ/IxRand",
      "include_colab_link": true
    },
    "kernelspec": {
      "name": "python3",
      "display_name": "Python 3"
    }
  },
  "cells": [
    {
      "cell_type": "markdown",
      "metadata": {
        "id": "view-in-github",
        "colab_type": "text"
      },
      "source": [
        "<a href=\"https://colab.research.google.com/github/alexjgUFOP/BCC342-lista01/blob/main/BCC342_lista01_17_2_1471.ipynb\" target=\"_parent\"><img src=\"https://colab.research.google.com/assets/colab-badge.svg\" alt=\"Open In Colab\"/></a>"
      ]
    },
    {
      "cell_type": "markdown",
      "metadata": {
        "id": "wsY8MB9POS_Y"
      },
      "source": [
        "### Instalação da lib MIP \n",
        "\n",
        "\n"
      ]
    },
    {
      "cell_type": "code",
      "metadata": {
        "colab": {
          "base_uri": "https://localhost:8080/"
        },
        "id": "5yjYnZ3nOd6H",
        "outputId": "2ef7524c-661e-46dd-f539-44d2daadc750"
      },
      "source": [
        "!pip install mip"
      ],
      "execution_count": 871,
      "outputs": [
        {
          "output_type": "stream",
          "text": [
            "Requirement already satisfied: mip in /usr/local/lib/python3.6/dist-packages (1.13.0)\n",
            "Requirement already satisfied: cffi in /usr/local/lib/python3.6/dist-packages (from mip) (1.14.4)\n",
            "Requirement already satisfied: pycparser in /usr/local/lib/python3.6/dist-packages (from cffi->mip) (2.20)\n"
          ],
          "name": "stdout"
        }
      ]
    },
    {
      "cell_type": "code",
      "metadata": {
        "id": "gEc8-MR_O3U6"
      },
      "source": [
        "#importando lib's\n",
        "from mip import Model, xsum, INTEGER, MAXIMIZE, MINIMIZE"
      ],
      "execution_count": 872,
      "outputs": []
    },
    {
      "cell_type": "markdown",
      "metadata": {
        "id": "M8eJkFFbPVmV"
      },
      "source": [
        "### 2a) O problema da Estampagem de Aço\n"
      ]
    },
    {
      "cell_type": "code",
      "metadata": {
        "id": "PIB038D-Pc_P"
      },
      "source": [
        "# num de variaveis do modelo\n",
        "nvars = 2\n",
        "# coef da função objetivo\n",
        "obj_coef = [15,40]\n",
        "# coef da restrição de produção\n",
        "g_coef = [[1,4],\n",
        "          [1,-4]]\n",
        "# coef da restrição de qtde de chapas\n",
        "g_val = [4080,0]\n",
        "\n",
        "#declaracao do modelo, maximizaçao de lucro\n",
        "m = Model('Aço', sense = MAXIMIZE)\n"
      ],
      "execution_count": 873,
      "outputs": []
    },
    {
      "cell_type": "code",
      "metadata": {
        "id": "ficuALbET9-x"
      },
      "source": [
        "#variavel de decisao\n",
        "  # Xi do tipo inteiro >= 0 i de 0 a nvars\n",
        "x = [m.add_var(name='x{}'.format(int(i)), var_type=INTEGER, lb=0) for i in range(nvars)]"
      ],
      "execution_count": 874,
      "outputs": []
    },
    {
      "cell_type": "code",
      "metadata": {
        "id": "ESh9iLvSVNzD"
      },
      "source": [
        "# definicao da funcao objetivo\n",
        "m.objective = xsum(obj_coef[i] * x[i] for i in range(nvars))"
      ],
      "execution_count": 875,
      "outputs": []
    },
    {
      "cell_type": "code",
      "metadata": {
        "id": "kT-LovD4Vifm"
      },
      "source": [
        "# restriçao de producao\n",
        "for i in range(len(g_val)):\n",
        "  m += xsum(g_coef[i][j] * x[j] for j in range(nvars)) <= g_val[i]"
      ],
      "execution_count": 876,
      "outputs": []
    },
    {
      "cell_type": "code",
      "metadata": {
        "colab": {
          "base_uri": "https://localhost:8080/"
        },
        "id": "nbr9hzMaXKAQ",
        "outputId": "d8068ec8-8128-4ed6-85e6-1bc60a87bc2b"
      },
      "source": [
        "# otimizando o modelo\n",
        "m.optimize()"
      ],
      "execution_count": 877,
      "outputs": [
        {
          "output_type": "execute_result",
          "data": {
            "text/plain": [
              "<OptimizationStatus.OPTIMAL: 0>"
            ]
          },
          "metadata": {
            "tags": []
          },
          "execution_count": 877
        }
      ]
    },
    {
      "cell_type": "code",
      "metadata": {
        "colab": {
          "base_uri": "https://localhost:8080/"
        },
        "id": "kC4_X0dCXP2V",
        "outputId": "71cf0981-12bb-4c15-b9fc-dc581afec616"
      },
      "source": [
        "# impressao dos resultados\n",
        "print('Optimal Solution: {}'.format([x[i].x for i in range(nvars)]))"
      ],
      "execution_count": 878,
      "outputs": [
        {
          "output_type": "stream",
          "text": [
            "Optimal Solution: [2040.0, 510.0]\n"
          ],
          "name": "stdout"
        }
      ]
    },
    {
      "cell_type": "markdown",
      "metadata": {
        "id": "_jn0J_3ko0Js"
      },
      "source": [
        "### 2b) O Problema dos Fertilizantes"
      ]
    },
    {
      "cell_type": "code",
      "metadata": {
        "id": "ii34_kDar_mA"
      },
      "source": [
        "# numero de variaveis - fertilizantes A,B,C\n",
        "nvars = 3\n",
        "\n",
        "# coef da funcao objetivo\n",
        "obj_coef = [50,40,60]\n",
        "\n",
        "# coef das vendas\n",
        "g_venda = [20,25,30]\n",
        "#coef do custo de producao\n",
        "g_custo = [10,20,20]\n",
        "# coef da restricao de producao\n",
        "g_prod = 100000\n",
        "# declaracao do modelo, minimizar producao de residuos\n",
        "m = Model('Fertilizantes', sense = MINIMIZE)"
      ],
      "execution_count": 879,
      "outputs": []
    },
    {
      "cell_type": "code",
      "metadata": {
        "id": "Gbq-NxTXs9xs"
      },
      "source": [
        "# definicao da variavel de decisao\n",
        "  # x1,x2,x3 (nvars) -> R\n",
        "x = [m.add_var(name='x{}'.format(int(i)), lb=0) for i in range(nvars)]"
      ],
      "execution_count": 880,
      "outputs": []
    },
    {
      "cell_type": "code",
      "metadata": {
        "id": "oF1SW6wos3Xu"
      },
      "source": [
        "# definicao da funcao objetivo\n",
        "m.objective = xsum(obj_coef[i]*x[i] for i in range(nvars))"
      ],
      "execution_count": 881,
      "outputs": []
    },
    {
      "cell_type": "code",
      "metadata": {
        "id": "PZQhwEEQo6jo"
      },
      "source": [
        "# definicao das restricoes\n",
        "\n",
        "# restricao de lucro minimo\n",
        "for i in range(nvars):\n",
        "  m += xsum(g_venda[i]*x[i] - g_custo[i]*x[i] for i in range(nvars)) >= g_prod\n",
        "#m += 20*x[0] + 25*x[1] + 30*x[2] - (10*x[0] + 20*x[1] + 20*x[2])\n",
        "# restricao de producao\n",
        "m += x[0] + x[1] + x[2] <= 15000\n",
        "m += x[0] + x[1] + x[2] >= (15000 * 0.8)\n",
        "  # minimo de producao do fertilizante A\n",
        "m += x[0] >= 5000"
      ],
      "execution_count": 882,
      "outputs": []
    },
    {
      "cell_type": "code",
      "metadata": {
        "colab": {
          "base_uri": "https://localhost:8080/"
        },
        "id": "cSnuak896QlW",
        "outputId": "9a16442d-bf2a-4109-b359-b05df7ebef02"
      },
      "source": [
        "# otimizando o modelo\n",
        "m.optimize()"
      ],
      "execution_count": 883,
      "outputs": [
        {
          "output_type": "execute_result",
          "data": {
            "text/plain": [
              "<OptimizationStatus.OPTIMAL: 0>"
            ]
          },
          "metadata": {
            "tags": []
          },
          "execution_count": 883
        }
      ]
    },
    {
      "cell_type": "code",
      "metadata": {
        "colab": {
          "base_uri": "https://localhost:8080/"
        },
        "id": "kx6VoJJZ6VaG",
        "outputId": "f20f863b-f7f9-4841-d6ef-76c2baae1971"
      },
      "source": [
        "# impressao dos resultados\n",
        "print('Optimal Solution: {}'.format([x[i].x for i in range(nvars)]))"
      ],
      "execution_count": 884,
      "outputs": [
        {
          "output_type": "stream",
          "text": [
            "Optimal Solution: [8000.0, 4000.0, 0.0]\n"
          ],
          "name": "stdout"
        }
      ]
    },
    {
      "cell_type": "markdown",
      "metadata": {
        "id": "Y5eSogHCjKY_"
      },
      "source": [
        "### 2c) O problema do Custo de Transporte"
      ]
    },
    {
      "cell_type": "code",
      "metadata": {
        "id": "m-yB2b1bktD3"
      },
      "source": [
        "#custo de transporte entre fabrica e armazens\n",
        "  # F1 nao envia para A4 e F2 nao envia para A1\n",
        "cost = [[40,50,55,9999999999],\n",
        "        [999999999,60,30,50]]\n",
        "\n",
        "#declaracao do modelo\n",
        "m = Model('Transporte',sense = MINIMIZE)"
      ],
      "execution_count": 885,
      "outputs": []
    },
    {
      "cell_type": "code",
      "metadata": {
        "id": "BdT1wfBUmMM0"
      },
      "source": [
        "# definicao da variavel de decisao Xij\n",
        "x = [[m.add_var(var_type=INTEGER, lb=0) for j in range(4)] for i in range(2)]"
      ],
      "execution_count": 886,
      "outputs": []
    },
    {
      "cell_type": "code",
      "metadata": {
        "id": "KluNOFZcpwb9"
      },
      "source": [
        "# definicao da funcao objetivo\n",
        "m.objective = xsum(cost[i][j] * x[i][j] for i in range(2) for j in range(4))"
      ],
      "execution_count": 887,
      "outputs": []
    },
    {
      "cell_type": "code",
      "metadata": {
        "id": "lIyxG8yuqi4Y"
      },
      "source": [
        "# definicao das restricoes\n",
        "\n",
        "# restricao de envio\n",
        "m += x[0][3] == 0\n",
        "m += x[1][0] == 0\n",
        "# restricao de capacidade produtiva\n",
        "  # Obs.: = 6000 e 9000 porque caso contrario a sol. otima = 0\n",
        "m += xsum(x[0][j] for j in range(4)) == 6000\n",
        "m += xsum(x[1][j] for j in range(4)) == 9000\n",
        "# restricao de capacidade de armazenamento\n",
        "m += x[0][0] <= 2500\n",
        "m += xsum(x[i][1] for i in range(2)) <= 4500\n",
        "m += xsum(x[i][2] for i in range(2)) <= 5500\n",
        "m += x[1][3] <= 3500"
      ],
      "execution_count": 888,
      "outputs": []
    },
    {
      "cell_type": "code",
      "metadata": {
        "colab": {
          "base_uri": "https://localhost:8080/"
        },
        "id": "PdeAucHPt39P",
        "outputId": "f842f8c9-ddcf-4904-eead-6db93d67dd56"
      },
      "source": [
        "# otimizacao do modelo\n",
        "m.optimize()"
      ],
      "execution_count": 889,
      "outputs": [
        {
          "output_type": "execute_result",
          "data": {
            "text/plain": [
              "<OptimizationStatus.OPTIMAL: 0>"
            ]
          },
          "metadata": {
            "tags": []
          },
          "execution_count": 889
        }
      ]
    },
    {
      "cell_type": "code",
      "metadata": {
        "colab": {
          "base_uri": "https://localhost:8080/"
        },
        "id": "egjq4LYSt729",
        "outputId": "eddaad2f-d7a7-4230-a68c-86a4ab1e0061"
      },
      "source": [
        "# impressao dos resultados\n",
        "print('Optimal Solution: {}'.format([x[i][j].x for i in range(2) for j in range(4)]))"
      ],
      "execution_count": 890,
      "outputs": [
        {
          "output_type": "stream",
          "text": [
            "Optimal Solution: [2500.0, 3500.0, 0.0, 0.0, 0.0, 0.0, 5500.0, 3500.0]\n"
          ],
          "name": "stdout"
        }
      ]
    },
    {
      "cell_type": "markdown",
      "metadata": {
        "id": "eyQ43pyWDcHG"
      },
      "source": [
        "### 2d) Problema das Ligas Metalicas"
      ]
    },
    {
      "cell_type": "code",
      "metadata": {
        "id": "9HVgAiSODtCN"
      },
      "source": [
        "# numero de variaveis\n",
        "nvars = 2\n",
        "# coeficientes da funcao obj\n",
        "obj_coef = [3000,5000]\n",
        "# coeficientes da funcao obj\n",
        "g_liga = [[0.5,0.2],\n",
        "          [0.25,0.3],\n",
        "          [0.25,0.5]]\n",
        "# termos da restricao de disponibilidade\n",
        "g_disp = [16,11,15]\n",
        "\n",
        "# definicao do modelo\n",
        "m = Model('Ligas', sense = MAXIMIZE)"
      ],
      "execution_count": 891,
      "outputs": []
    },
    {
      "cell_type": "code",
      "metadata": {
        "id": "K5Fm0HLvGD4U"
      },
      "source": [
        "# definicao da variavel de decisao\n",
        "    # x1,x2 (nvars) -> R\n",
        "x = [m.add_var(name='x{}'.format(int(i)),lb=0) for i in range(nvars)]"
      ],
      "execution_count": 892,
      "outputs": []
    },
    {
      "cell_type": "code",
      "metadata": {
        "id": "X1vrpJnCOLHD"
      },
      "source": [
        "# definicao da funcao objetivo\n",
        "m.objective = xsum(obj_coef[i]*x[i] for i in range(nvars))"
      ],
      "execution_count": 893,
      "outputs": []
    },
    {
      "cell_type": "code",
      "metadata": {
        "id": "HCw9dPQcHvm_"
      },
      "source": [
        "# definicao das restricoes\n",
        "\n",
        "# restricao de disponibilidade\n",
        "m += g_liga[0][0]*x[0] + g_liga[0][1]*x[1] <= g_disp[0]\n",
        "m += g_liga[1][0]*x[0] + g_liga[1][1]*x[1] <= g_disp[1]\n",
        "m += g_liga[2][0]*x[0] + g_liga[2][1]*x[1] <= g_disp[2]"
      ],
      "execution_count": 894,
      "outputs": []
    },
    {
      "cell_type": "code",
      "metadata": {
        "colab": {
          "base_uri": "https://localhost:8080/"
        },
        "id": "E5eRlQ3lL9oj",
        "outputId": "aa2c3e43-cfe0-48aa-a4e4-7a7bc09f3db3"
      },
      "source": [
        "# otimizando o modelo\n",
        "m.optimize()"
      ],
      "execution_count": 895,
      "outputs": [
        {
          "output_type": "execute_result",
          "data": {
            "text/plain": [
              "<OptimizationStatus.OPTIMAL: 0>"
            ]
          },
          "metadata": {
            "tags": []
          },
          "execution_count": 895
        }
      ]
    },
    {
      "cell_type": "code",
      "metadata": {
        "colab": {
          "base_uri": "https://localhost:8080/"
        },
        "id": "KVXOtlIOMBTz",
        "outputId": "3270adb9-1955-4bcf-8d73-fcfe5e828f66"
      },
      "source": [
        "# impressao dos resultados\n",
        "print('Optimal Solution {}'.format([x[i].x for i in range(nvars)]))"
      ],
      "execution_count": 896,
      "outputs": [
        {
          "output_type": "stream",
          "text": [
            "Optimal Solution [20.00000000000001, 19.999999999999996]\n"
          ],
          "name": "stdout"
        }
      ]
    },
    {
      "cell_type": "markdown",
      "metadata": {
        "id": "Z_gswGabPYmr"
      },
      "source": [
        "### 2e) O Problema da Dieta"
      ]
    },
    {
      "cell_type": "code",
      "metadata": {
        "id": "I1UG8IjWPgUZ"
      },
      "source": [
        "# numero de variaveis\n",
        "nvars = 4\n",
        "# coef da funcao objetivo\n",
        "obj_coef = [2,4,1.5,1]\n",
        "# coef das restricoes de porcoes vitaminas\n",
        "g_vit = [[2,2,10,20],\n",
        "         [50,20,10,30],\n",
        "         [80,70,10,80]]\n",
        "# termos das requisito min nutricional\n",
        "  # vitaminas A,B,C\n",
        "g_nut = [11,70,250]\n",
        "\n",
        "# definicao do modelo\n",
        "m = Model('Dieta', sense=MINIMIZE)"
      ],
      "execution_count": 897,
      "outputs": []
    },
    {
      "cell_type": "code",
      "metadata": {
        "id": "vw-ccNcSWHNv"
      },
      "source": [
        "# declaracao da variavel objetivo\n",
        "  # Xi -> R\n",
        "x = [m.add_var(name='x{}'.format(int(i)), lb=0) for i in range(nvars)]"
      ],
      "execution_count": 898,
      "outputs": []
    },
    {
      "cell_type": "code",
      "metadata": {
        "id": "iaEPK0UZU3nQ"
      },
      "source": [
        "# definicao da funcao objetivo\n",
        "m.objective = xsum(obj_coef[i]*x[i] for i in range(nvars))\n"
      ],
      "execution_count": 899,
      "outputs": []
    },
    {
      "cell_type": "code",
      "metadata": {
        "id": "I_VqhVRWXejl"
      },
      "source": [
        "# estabelecendo restricoes\n",
        "\n",
        "# restricao de minimo de vitaminas na alimentacao\n",
        "m += g_vit[0][0]*x[0] + g_vit[0][1]*x[1]+ g_vit[0][2]*x[2]+ g_vit[0][3]*x[3] >= g_nut[0]\n",
        "m += g_vit[1][0]*x[0] + g_vit[1][1]*x[1]+ g_vit[1][2]*x[2]+ g_vit[1][3]*x[3] >= g_nut[1]\n",
        "m += g_vit[2][0]*x[0] + g_vit[2][1]*x[1]+ g_vit[2][2]*x[2]+ g_vit[2][3]*x[3] >= g_nut[2]"
      ],
      "execution_count": 900,
      "outputs": []
    },
    {
      "cell_type": "code",
      "metadata": {
        "colab": {
          "base_uri": "https://localhost:8080/"
        },
        "id": "ma_1pu2sW4oo",
        "outputId": "234526ad-38e7-4bcb-f3a0-1dbc2b313fcc"
      },
      "source": [
        "# otimizando o modelo\n",
        "m.optimize()"
      ],
      "execution_count": 901,
      "outputs": [
        {
          "output_type": "execute_result",
          "data": {
            "text/plain": [
              "<OptimizationStatus.OPTIMAL: 0>"
            ]
          },
          "metadata": {
            "tags": []
          },
          "execution_count": 901
        }
      ]
    },
    {
      "cell_type": "code",
      "metadata": {
        "colab": {
          "base_uri": "https://localhost:8080/"
        },
        "id": "7qtUS7cBYsmy",
        "outputId": "c8ecb17b-25a1-42f8-f882-c5ad75054d47"
      },
      "source": [
        "# imprimindo solucao\n",
        "print('Optimal Solution: {}'.format([x[i].x for i in range(nvars)]))"
      ],
      "execution_count": 902,
      "outputs": [
        {
          "output_type": "stream",
          "text": [
            "Optimal Solution: [0.0, 0.0, 0.0, 3.125]\n"
          ],
          "name": "stdout"
        }
      ]
    },
    {
      "cell_type": "markdown",
      "metadata": {
        "id": "ovpQxVGEcvdv"
      },
      "source": [
        "### 2f) Problema da Cooperativa Agricola"
      ]
    },
    {
      "cell_type": "code",
      "metadata": {
        "id": "gbTcZfT8c3Br"
      },
      "source": [
        "# numero de variaveis de decisao\n",
        "nvars = 3\n",
        "# coef da funcao obj\n",
        "obj_coef = [5000,4000,1800]\n",
        "# coef das restricoes de consumo de agua\n",
        "g_consumo = [5.5,4,3.5]\n",
        "# termos da restricao de agua disponivel / area\n",
        "g_agua = [1800,2200,950]\n",
        "# termos da restricao area de platio / cultivo\n",
        "g_area = [660,880,400]\n",
        "# termos da restricao de area de plantio / fazenda\n",
        "g_plantio = [400,650,350]\n",
        "# coef da restricao de proporcionalidade\n",
        "g_proporcao = [45,-28,52]\n",
        "# definicao do modelo\n",
        "m = Model('Cultivo', sense = MAXIMIZE)"
      ],
      "execution_count": 903,
      "outputs": []
    },
    {
      "cell_type": "code",
      "metadata": {
        "id": "U9mmq7qM0mBg"
      },
      "source": [
        "# declaracao da variavel de decisao\n",
        "  #Xij, i -> (fazenda 1,2,3 ) = 3  j -> (1=milho,2=arroz,3=feijao) -> = nvars\n",
        "  #Xij -> R\n",
        "x = [[m.add_var(lb=0) for j in range(nvars)] for i in range(nvars)]"
      ],
      "execution_count": 904,
      "outputs": []
    },
    {
      "cell_type": "code",
      "metadata": {
        "id": "o-WHsXoCfhJJ"
      },
      "source": [
        "# definicao da funcao objetivo\n",
        "m.objective = xsum(obj_coef[k]*x[i][j] for k in range(nvars) for j in range(nvars) for i in range(nvars))"
      ],
      "execution_count": 905,
      "outputs": []
    },
    {
      "cell_type": "code",
      "metadata": {
        "id": "hMGWmxhc5FLk"
      },
      "source": [
        "# determicao das restricoes do problema\n",
        "\n",
        "# restricao de area de plantio / fazenda\n",
        "for i in range(len(g_plantio)):\n",
        "  m += xsum(x[i][j] for j in range(len(g_plantio))) <= g_plantio[i]\n",
        "# restricao da area de plantio / cultivo\n",
        "for j in range(len(g_area)):\n",
        "  m += xsum(x[i][j] for i in range(len(g_area))) <= g_area[j]\n",
        "# restricoes de consumo de agua / fazenda\n",
        "for i in range(len(g_agua)):\n",
        "  m += xsum(g_consumo[i] * x[i][j] for j in range(len(g_agua))) <= g_agua[i]\n",
        "# restricao de proporcao\n",
        "#m += xsum(g_proporcao[k]*x[i][j] for k in range(nvars) for i in range(nvars) for j in range(nvars)) == 0\n",
        "#m += xsum(g_proporcao[k]*x[i][j] for k in range(nvars) for i in range(nvars) for j in range(nvars)) == 0\n",
        "m += (xsum(x[0][i] for j in range(nvars))/g_plantio[0]) == (xsum(x[1][i] for j in range(nvars))/g_plantio[1])\n",
        "m += (xsum(x[1][i] for j in range(nvars))/g_plantio[1]) == (xsum(x[2][i] for j in range(nvars))/g_plantio[2])"
      ],
      "execution_count": 906,
      "outputs": []
    },
    {
      "cell_type": "code",
      "metadata": {
        "colab": {
          "base_uri": "https://localhost:8080/"
        },
        "id": "-CFK01A2LPdZ",
        "outputId": "1b964bd9-a5df-49b4-a2f7-b15f633cb969"
      },
      "source": [
        "# otimizando o modelo\n",
        "m.optimize()"
      ],
      "execution_count": 907,
      "outputs": [
        {
          "output_type": "execute_result",
          "data": {
            "text/plain": [
              "<OptimizationStatus.OPTIMAL: 0>"
            ]
          },
          "metadata": {
            "tags": []
          },
          "execution_count": 907
        }
      ]
    },
    {
      "cell_type": "code",
      "metadata": {
        "colab": {
          "base_uri": "https://localhost:8080/"
        },
        "id": "eIRJbN6ILU-j",
        "outputId": "f81697a3-d00a-4f0e-e268-501af42a3f6d"
      },
      "source": [
        "print('Optimal Solution: {}'.format([x[i][j].x for i in range(nvars) for j in range(nvars)]))"
      ],
      "execution_count": 908,
      "outputs": [
        {
          "output_type": "stream",
          "text": [
            "Optimal Solution: [212.987012987013, 0.0, 114.28571428571429, 364.2857142857143, 0.0, 185.71428571428572, 82.72727272727272, 88.70129870129867, 100.0]\n"
          ],
          "name": "stdout"
        }
      ]
    },
    {
      "cell_type": "markdown",
      "metadata": {
        "id": "p9_Y44iGuO2u"
      },
      "source": [
        "### 2g) O Problema das equipes de engenharia"
      ]
    },
    {
      "cell_type": "code",
      "metadata": {
        "id": "JExcMjG3uWWW"
      },
      "source": [
        "# restricao das chances de vitoria\n",
        "g_chances=[[80,-40],\n",
        "           [20,60]]\n",
        "\n",
        "# declaracao do modelo\n",
        "m = Model('Estrategia', sense = MAXIMIZE)"
      ],
      "execution_count": 1131,
      "outputs": []
    },
    {
      "cell_type": "code",
      "metadata": {
        "id": "D9MpiBXTvpx8"
      },
      "source": [
        "# declaracao da variavel de decisao\n",
        "  # X -> representa as chances de vitoria da equipe\n",
        "x = [m.add_var(name='x{}'.format(int(i)), lb=0) for i in range(2)]"
      ],
      "execution_count": 1132,
      "outputs": []
    },
    {
      "cell_type": "code",
      "metadata": {
        "id": "CGk_2wRCw7GV"
      },
      "source": [
        "# definicao da funcao objetivo\n",
        "m.objective = xsum(x[i] for i in range(2))\n",
        "#m.objective = x[0]\n"
      ],
      "execution_count": 1133,
      "outputs": []
    },
    {
      "cell_type": "code",
      "metadata": {
        "id": "coSEEgxwwp_G"
      },
      "source": [
        "# definicao das restricoes\n",
        "\n",
        "# restricao de zona factivel\n",
        "m += x[0] <= 100\n",
        "m += x[0] >= 0\n",
        "m += x[1] <= 100\n",
        "m += x[1] >= 0\n",
        "\n",
        "m += g_chances[0][0] - g_chances[0][1]*x[0] <= x[1]\n",
        "m += g_chances[1][0] + g_chances[1][1]*x[0] <= x[1]\n"
      ],
      "execution_count": 1134,
      "outputs": []
    },
    {
      "cell_type": "code",
      "metadata": {
        "colab": {
          "base_uri": "https://localhost:8080/"
        },
        "id": "GKN9_D4zDoTr",
        "outputId": "e0cdf247-c687-48d4-80c2-b7cd2750c6bd"
      },
      "source": [
        "# otimizando o modelo\n",
        "m.optimize()"
      ],
      "execution_count": 1135,
      "outputs": [
        {
          "output_type": "execute_result",
          "data": {
            "text/plain": [
              "<OptimizationStatus.OPTIMAL: 0>"
            ]
          },
          "metadata": {
            "tags": []
          },
          "execution_count": 1135
        }
      ]
    },
    {
      "cell_type": "code",
      "metadata": {
        "id": "gk1GEDLqDsDv",
        "colab": {
          "base_uri": "https://localhost:8080/"
        },
        "outputId": "81a34691-b646-4e03-d8b1-f5fd5c38ba2a"
      },
      "source": [
        "print('Optimal Solution: {}'.format(x[0].x))"
      ],
      "execution_count": 1136,
      "outputs": [
        {
          "output_type": "stream",
          "text": [
            "Optimal Solution: 0.5\n"
          ],
          "name": "stdout"
        }
      ]
    },
    {
      "cell_type": "markdown",
      "metadata": {
        "id": "8pdBhjxfRBxZ"
      },
      "source": [
        "### 2h) O Problema da Pequena Fábrica"
      ]
    },
    {
      "cell_type": "code",
      "metadata": {
        "id": "MDoYPwRTRMGn"
      },
      "source": [
        "# numero de variaveis\n",
        "nvars = 2\n",
        "# coeficiente da funcao objetivo\n",
        "obj_coef = [2,5]\n",
        "# termos das restricoes de tempo [0]: horas de maquina / [1]: materia-prima\n",
        "g_tempos = [200,300]\n",
        "# coef da restricao de uso das maquinas\n",
        "g_uso = [3,4]\n",
        "# coef da restricao pela disponibilidade de materia-prima\n",
        "g_disp = [9,7]\n",
        "\n",
        "# definindo modelo\n",
        "m = Model('Produção', sense = MAXIMIZE)"
      ],
      "execution_count": 1137,
      "outputs": []
    },
    {
      "cell_type": "code",
      "metadata": {
        "id": "bManNxLmVUaR"
      },
      "source": [
        "# declarando variavel de decisao\n",
        "x = [m.add_var(var_type=INTEGER,lb=0) for i in range(nvars)]"
      ],
      "execution_count": 1138,
      "outputs": []
    },
    {
      "cell_type": "code",
      "metadata": {
        "id": "UAGDUegyVvEc"
      },
      "source": [
        "# expressao da funcao objetivo\n",
        "m.objective = xsum(obj_coef[i]*x[i] for i in range(nvars))"
      ],
      "execution_count": 1139,
      "outputs": []
    },
    {
      "cell_type": "code",
      "metadata": {
        "id": "SSee-1rSWHyP"
      },
      "source": [
        "# restricoes do modelo\n",
        "\n",
        "# restricao sobre o uso maquina\n",
        "m += xsum(g_uso[i]*x[i] for i in range(nvars)) <= g_tempos[0]\n",
        "m += xsum(g_disp[i]*x[i] for i in range(nvars)) <= g_tempos[1]"
      ],
      "execution_count": 1140,
      "outputs": []
    },
    {
      "cell_type": "code",
      "metadata": {
        "colab": {
          "base_uri": "https://localhost:8080/"
        },
        "id": "bv8luJ7bXCU7",
        "outputId": "8ea25ee3-71a0-48b1-aa81-e9e0a05920a0"
      },
      "source": [
        "# otimizando o modelo\n",
        "m.optimize()"
      ],
      "execution_count": 1141,
      "outputs": [
        {
          "output_type": "execute_result",
          "data": {
            "text/plain": [
              "<OptimizationStatus.OPTIMAL: 0>"
            ]
          },
          "metadata": {
            "tags": []
          },
          "execution_count": 1141
        }
      ]
    },
    {
      "cell_type": "code",
      "metadata": {
        "colab": {
          "base_uri": "https://localhost:8080/"
        },
        "id": "j82dPw_DXGDv",
        "outputId": "af5f1d6c-5b0d-482d-b07b-db9870dbcc7c"
      },
      "source": [
        "print('Optimal Solution: x{}'.format([x[i].x for i in range(nvars)]))"
      ],
      "execution_count": 1142,
      "outputs": [
        {
          "output_type": "stream",
          "text": [
            "Optimal Solution: x[0.0, 42.0]\n"
          ],
          "name": "stdout"
        }
      ]
    },
    {
      "cell_type": "markdown",
      "metadata": {
        "id": "KlU-5FuCbobO"
      },
      "source": [
        "### 2i) O Problema da Fábrica de Camisas"
      ]
    },
    {
      "cell_type": "code",
      "metadata": {
        "id": "JTrpPURvbxW7"
      },
      "source": [
        "# numero de variaveis\n",
        "nvars = 2\n",
        "# coeficiente da funcao objetivo\n",
        "obj_coef = [5,3.5]\n",
        "# termos das restricoes de limitacao max de producao\n",
        "g_producao = [150,300]\n",
        "# coef da restricao para foco em camisas de manga curta\n",
        "g_dcurta = [3/2,1]\n",
        "# termo da restricao da qtde maxima de producao em foco de camisas de manga curta\n",
        "g_mcurta = 400\n",
        "\n",
        "# definindo modelo\n",
        "m = Model('Camisas', sense = MAXIMIZE)"
      ],
      "execution_count": 1143,
      "outputs": []
    },
    {
      "cell_type": "code",
      "metadata": {
        "id": "B-OC6jnlczYj"
      },
      "source": [
        "# declarando variavel de decisao\n",
        "x = [m.add_var(var_type=INTEGER,lb=0) for i in range(nvars)]"
      ],
      "execution_count": 1144,
      "outputs": []
    },
    {
      "cell_type": "code",
      "metadata": {
        "id": "oRj40g69c3HY"
      },
      "source": [
        "# expressao da funcao objetivo\n",
        "m.objective = xsum(obj_coef[i]*x[i] for i in range(nvars))"
      ],
      "execution_count": 1145,
      "outputs": []
    },
    {
      "cell_type": "code",
      "metadata": {
        "id": "QcL8yojfc7um"
      },
      "source": [
        "# restricoes do modelo\n",
        "\n",
        "# restricao de producao\n",
        "m += x[0] <= g_producao[0]\n",
        "m += x[1] <= g_producao[1]\n",
        "# restricao de relacao de variaveis pela equacao de foco em manga curta\n",
        "m += xsum(g_dcurta[i]*x[i] for i in range(nvars)) == g_mcurta"
      ],
      "execution_count": 1146,
      "outputs": []
    },
    {
      "cell_type": "code",
      "metadata": {
        "colab": {
          "base_uri": "https://localhost:8080/"
        },
        "id": "apQRWyPVfsrd",
        "outputId": "63a7beed-f89c-459e-ccf1-917ffc45fb83"
      },
      "source": [
        "# otimizando o modelo\n",
        "m.optimize()"
      ],
      "execution_count": 1147,
      "outputs": [
        {
          "output_type": "execute_result",
          "data": {
            "text/plain": [
              "<OptimizationStatus.OPTIMAL: 0>"
            ]
          },
          "metadata": {
            "tags": []
          },
          "execution_count": 1147
        }
      ]
    },
    {
      "cell_type": "code",
      "metadata": {
        "colab": {
          "base_uri": "https://localhost:8080/"
        },
        "id": "0xsD1AQlfwUP",
        "outputId": "eb1861c0-d6cf-475a-aeb4-da82efd75ace"
      },
      "source": [
        "print('Optimal Solution: x{}'.format([x[i].x for i in range(nvars)]))"
      ],
      "execution_count": 1148,
      "outputs": [
        {
          "output_type": "stream",
          "text": [
            "Optimal Solution: x[68.0, 298.0]\n"
          ],
          "name": "stdout"
        }
      ]
    }
  ]
}